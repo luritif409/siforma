{
  "nbformat": 4,
  "nbformat_minor": 0,
  "metadata": {
    "colab": {
      "provenance": [],
      "authorship_tag": "ABX9TyO9G7siZXJ4Q4EixF7Sv6XR",
      "include_colab_link": true
    },
    "kernelspec": {
      "name": "python3",
      "display_name": "Python 3"
    },
    "language_info": {
      "name": "python"
    }
  },
  "cells": [
    {
      "cell_type": "markdown",
      "metadata": {
        "id": "view-in-github",
        "colab_type": "text"
      },
      "source": [
        "<a href=\"https://colab.research.google.com/github/luritif409/siforma/blob/main/random-jadwal-sempro.ipynb\" target=\"_parent\"><img src=\"https://colab.research.google.com/assets/colab-badge.svg\" alt=\"Open In Colab\"/></a>"
      ]
    },
    {
      "cell_type": "code",
      "execution_count": null,
      "metadata": {
        "id": "OKkpgLe4j43q"
      },
      "outputs": [],
      "source": [
        "import pandas as pd\n",
        "import random\n",
        "\n"
      ]
    },
    {
      "cell_type": "code",
      "source": [
        "file_path = \"/content/Data Proposal IF22 (2).xlsx\"\n",
        "jadwal_df = pd.read_excel(file_path, sheet_name=\"Jadwal Proposal\")\n"
      ],
      "metadata": {
        "id": "1oQNe-QakD1l"
      },
      "execution_count": null,
      "outputs": []
    },
    {
      "cell_type": "code",
      "source": [
        "sheet_name = \"Jadwal Proposal\""
      ],
      "metadata": {
        "id": "BS3LCGL8kHQ8"
      },
      "execution_count": null,
      "outputs": []
    },
    {
      "cell_type": "code",
      "source": [
        "# === 2️⃣ Pemetaan nama dosen ===\n",
        "mapping_dosen = {\n",
        "    \"Pak Khoir\": \"Ahmad Khoir Al-Haq, S.Kom., M.Kom.\",\n",
        "    \"Bu Neny\": \"Neny Kurniati, S.Kom., M.T.\",\n",
        "    \"Pak Arda\": \"Dr. Arda Surya Editya, S.Pd., MT.\",\n",
        "    \"Pak Anggay\": \"Anggay Luri Pramana, S.Kom., M.Kom.\",\n",
        "    \"Pak Alamin\": \"Moch Machlul Alamin, S.Kom., M.Kom.\"\n",
        "}"
      ],
      "metadata": {
        "id": "3OZnusCdkL6D"
      },
      "execution_count": null,
      "outputs": []
    },
    {
      "cell_type": "code",
      "source": [
        "# Daftar lengkap dosen\n",
        "dosen_list = list(mapping_dosen.values())"
      ],
      "metadata": {
        "id": "wnJCrQ41kbnP"
      },
      "execution_count": null,
      "outputs": []
    },
    {
      "cell_type": "code",
      "source": [
        "\n",
        "# === 3️⃣ Ganti kolom pembimbing ke nama lengkap ===\n",
        "jadwal_df[\"Pembimbing\"] = jadwal_df[\"Pembimbing\"].map(mapping_dosen)"
      ],
      "metadata": {
        "id": "SNK-5Du0kdoL"
      },
      "execution_count": null,
      "outputs": []
    },
    {
      "cell_type": "code",
      "source": [
        "# === 4️⃣ Fungsi untuk pilih penguji 1 & 2 ===\n",
        "def pilih_penguji(pembimbing):\n",
        "    kandidat = [d for d in dosen_list if d != pembimbing]  # tidak boleh pembimbing\n",
        "    penguji1, penguji2 = random.sample(kandidat, 2)        # pilih acak dua nama berbeda\n",
        "    return penguji1, penguji2"
      ],
      "metadata": {
        "id": "lOtxhL-lkgXu"
      },
      "execution_count": null,
      "outputs": []
    },
    {
      "cell_type": "code",
      "metadata": {
        "colab": {
          "base_uri": "https://localhost:8080/",
          "height": 206
        },
        "id": "caa7837b",
        "outputId": "1085ea50-a1a2-4fb0-f55a-e25dcf410bff"
      },
      "source": [
        "# Read the Excel file into a DataFrame\n",
        "df = pd.read_excel(file_path, sheet_name=sheet_name)\n",
        "display(df.head())"
      ],
      "execution_count": null,
      "outputs": [
        {
          "output_type": "display_data",
          "data": {
            "text/plain": [
              "  No.       NIM                Nama Depan Pembimbing  \\\n",
              "0   1  23422030  Nabila Mauliddia Azzhara  Pak Khoir   \n",
              "1   2  23422056          Dani Restu Putra  Pak Khoir   \n",
              "2   3  23422011    Ilham Putra Arfiansyah    Bu Neny   \n",
              "3   4  23422009            Dimas Alvianto    Bu Neny   \n",
              "4   5  23422058    Rezza Fahlevi Ramadhan   Pak Arda   \n",
              "\n",
              "                                               Judul       Hari/Tanggal  \\\n",
              "0  Implementasi Hotspot Management Pada Dnet Sido...  Senin, 18-11-2025   \n",
              "1  Implementasi Bandwidth Management Pada Jaringa...  Senin, 18-11-2025   \n",
              "2  Rancang Bangun Game Pengenalan Tata Surya Berb...  Senin, 18-11-2025   \n",
              "3  Rancang Bangun Game Belajar Berhitung Mengguna...  Senin, 18-11-2025   \n",
              "4  Rancang Bangun Aplikasi Pengumuman Front Desk ...  Senin, 18-11-2025   \n",
              "\n",
              "           Pukul  Penguji 1  Penguji 2  \n",
              "0  10.00 – 10.30        NaN        NaN  \n",
              "1  10.30 – 11.00        NaN        NaN  \n",
              "2  11.00 – 11.30        NaN        NaN  \n",
              "3  11.30 – 12.00        NaN        NaN  \n",
              "4  12.00 – 12.30        NaN        NaN  "
            ],
            "text/html": [
              "\n",
              "  <div id=\"df-3e71772c-e073-454c-8189-d8b0fc0aff8e\" class=\"colab-df-container\">\n",
              "    <div>\n",
              "<style scoped>\n",
              "    .dataframe tbody tr th:only-of-type {\n",
              "        vertical-align: middle;\n",
              "    }\n",
              "\n",
              "    .dataframe tbody tr th {\n",
              "        vertical-align: top;\n",
              "    }\n",
              "\n",
              "    .dataframe thead th {\n",
              "        text-align: right;\n",
              "    }\n",
              "</style>\n",
              "<table border=\"1\" class=\"dataframe\">\n",
              "  <thead>\n",
              "    <tr style=\"text-align: right;\">\n",
              "      <th></th>\n",
              "      <th>No.</th>\n",
              "      <th>NIM</th>\n",
              "      <th>Nama Depan</th>\n",
              "      <th>Pembimbing</th>\n",
              "      <th>Judul</th>\n",
              "      <th>Hari/Tanggal</th>\n",
              "      <th>Pukul</th>\n",
              "      <th>Penguji 1</th>\n",
              "      <th>Penguji 2</th>\n",
              "    </tr>\n",
              "  </thead>\n",
              "  <tbody>\n",
              "    <tr>\n",
              "      <th>0</th>\n",
              "      <td>1</td>\n",
              "      <td>23422030</td>\n",
              "      <td>Nabila Mauliddia Azzhara</td>\n",
              "      <td>Pak Khoir</td>\n",
              "      <td>Implementasi Hotspot Management Pada Dnet Sido...</td>\n",
              "      <td>Senin, 18-11-2025</td>\n",
              "      <td>10.00 – 10.30</td>\n",
              "      <td>NaN</td>\n",
              "      <td>NaN</td>\n",
              "    </tr>\n",
              "    <tr>\n",
              "      <th>1</th>\n",
              "      <td>2</td>\n",
              "      <td>23422056</td>\n",
              "      <td>Dani Restu Putra</td>\n",
              "      <td>Pak Khoir</td>\n",
              "      <td>Implementasi Bandwidth Management Pada Jaringa...</td>\n",
              "      <td>Senin, 18-11-2025</td>\n",
              "      <td>10.30 – 11.00</td>\n",
              "      <td>NaN</td>\n",
              "      <td>NaN</td>\n",
              "    </tr>\n",
              "    <tr>\n",
              "      <th>2</th>\n",
              "      <td>3</td>\n",
              "      <td>23422011</td>\n",
              "      <td>Ilham Putra Arfiansyah</td>\n",
              "      <td>Bu Neny</td>\n",
              "      <td>Rancang Bangun Game Pengenalan Tata Surya Berb...</td>\n",
              "      <td>Senin, 18-11-2025</td>\n",
              "      <td>11.00 – 11.30</td>\n",
              "      <td>NaN</td>\n",
              "      <td>NaN</td>\n",
              "    </tr>\n",
              "    <tr>\n",
              "      <th>3</th>\n",
              "      <td>4</td>\n",
              "      <td>23422009</td>\n",
              "      <td>Dimas Alvianto</td>\n",
              "      <td>Bu Neny</td>\n",
              "      <td>Rancang Bangun Game Belajar Berhitung Mengguna...</td>\n",
              "      <td>Senin, 18-11-2025</td>\n",
              "      <td>11.30 – 12.00</td>\n",
              "      <td>NaN</td>\n",
              "      <td>NaN</td>\n",
              "    </tr>\n",
              "    <tr>\n",
              "      <th>4</th>\n",
              "      <td>5</td>\n",
              "      <td>23422058</td>\n",
              "      <td>Rezza Fahlevi Ramadhan</td>\n",
              "      <td>Pak Arda</td>\n",
              "      <td>Rancang Bangun Aplikasi Pengumuman Front Desk ...</td>\n",
              "      <td>Senin, 18-11-2025</td>\n",
              "      <td>12.00 – 12.30</td>\n",
              "      <td>NaN</td>\n",
              "      <td>NaN</td>\n",
              "    </tr>\n",
              "  </tbody>\n",
              "</table>\n",
              "</div>\n",
              "    <div class=\"colab-df-buttons\">\n",
              "\n",
              "  <div class=\"colab-df-container\">\n",
              "    <button class=\"colab-df-convert\" onclick=\"convertToInteractive('df-3e71772c-e073-454c-8189-d8b0fc0aff8e')\"\n",
              "            title=\"Convert this dataframe to an interactive table.\"\n",
              "            style=\"display:none;\">\n",
              "\n",
              "  <svg xmlns=\"http://www.w3.org/2000/svg\" height=\"24px\" viewBox=\"0 -960 960 960\">\n",
              "    <path d=\"M120-120v-720h720v720H120Zm60-500h600v-160H180v160Zm220 220h160v-160H400v160Zm0 220h160v-160H400v160ZM180-400h160v-160H180v160Zm440 0h160v-160H620v160ZM180-180h160v-160H180v160Zm440 0h160v-160H620v160Z\"/>\n",
              "  </svg>\n",
              "    </button>\n",
              "\n",
              "  <style>\n",
              "    .colab-df-container {\n",
              "      display:flex;\n",
              "      gap: 12px;\n",
              "    }\n",
              "\n",
              "    .colab-df-convert {\n",
              "      background-color: #E8F0FE;\n",
              "      border: none;\n",
              "      border-radius: 50%;\n",
              "      cursor: pointer;\n",
              "      display: none;\n",
              "      fill: #1967D2;\n",
              "      height: 32px;\n",
              "      padding: 0 0 0 0;\n",
              "      width: 32px;\n",
              "    }\n",
              "\n",
              "    .colab-df-convert:hover {\n",
              "      background-color: #E2EBFA;\n",
              "      box-shadow: 0px 1px 2px rgba(60, 64, 67, 0.3), 0px 1px 3px 1px rgba(60, 64, 67, 0.15);\n",
              "      fill: #174EA6;\n",
              "    }\n",
              "\n",
              "    .colab-df-buttons div {\n",
              "      margin-bottom: 4px;\n",
              "    }\n",
              "\n",
              "    [theme=dark] .colab-df-convert {\n",
              "      background-color: #3B4455;\n",
              "      fill: #D2E3FC;\n",
              "    }\n",
              "\n",
              "    [theme=dark] .colab-df-convert:hover {\n",
              "      background-color: #434B5C;\n",
              "      box-shadow: 0px 1px 3px 1px rgba(0, 0, 0, 0.15);\n",
              "      filter: drop-shadow(0px 1px 2px rgba(0, 0, 0, 0.3));\n",
              "      fill: #FFFFFF;\n",
              "    }\n",
              "  </style>\n",
              "\n",
              "    <script>\n",
              "      const buttonEl =\n",
              "        document.querySelector('#df-3e71772c-e073-454c-8189-d8b0fc0aff8e button.colab-df-convert');\n",
              "      buttonEl.style.display =\n",
              "        google.colab.kernel.accessAllowed ? 'block' : 'none';\n",
              "\n",
              "      async function convertToInteractive(key) {\n",
              "        const element = document.querySelector('#df-3e71772c-e073-454c-8189-d8b0fc0aff8e');\n",
              "        const dataTable =\n",
              "          await google.colab.kernel.invokeFunction('convertToInteractive',\n",
              "                                                    [key], {});\n",
              "        if (!dataTable) return;\n",
              "\n",
              "        const docLinkHtml = 'Like what you see? Visit the ' +\n",
              "          '<a target=\"_blank\" href=https://colab.research.google.com/notebooks/data_table.ipynb>data table notebook</a>'\n",
              "          + ' to learn more about interactive tables.';\n",
              "        element.innerHTML = '';\n",
              "        dataTable['output_type'] = 'display_data';\n",
              "        await google.colab.output.renderOutput(dataTable, element);\n",
              "        const docLink = document.createElement('div');\n",
              "        docLink.innerHTML = docLinkHtml;\n",
              "        element.appendChild(docLink);\n",
              "      }\n",
              "    </script>\n",
              "  </div>\n",
              "\n",
              "\n",
              "    <div id=\"df-b378e6d4-5206-4ffb-be4c-1dda931af153\">\n",
              "      <button class=\"colab-df-quickchart\" onclick=\"quickchart('df-b378e6d4-5206-4ffb-be4c-1dda931af153')\"\n",
              "                title=\"Suggest charts\"\n",
              "                style=\"display:none;\">\n",
              "\n",
              "<svg xmlns=\"http://www.w3.org/2000/svg\" height=\"24px\"viewBox=\"0 0 24 24\"\n",
              "     width=\"24px\">\n",
              "    <g>\n",
              "        <path d=\"M19 3H5c-1.1 0-2 .9-2 2v14c0 1.1.9 2 2 2h14c1.1 0 2-.9 2-2V5c0-1.1-.9-2-2-2zM9 17H7v-7h2v7zm4 0h-2V7h2v10zm4 0h-2v-4h2v4z\"/>\n",
              "    </g>\n",
              "</svg>\n",
              "      </button>\n",
              "\n",
              "<style>\n",
              "  .colab-df-quickchart {\n",
              "      --bg-color: #E8F0FE;\n",
              "      --fill-color: #1967D2;\n",
              "      --hover-bg-color: #E2EBFA;\n",
              "      --hover-fill-color: #174EA6;\n",
              "      --disabled-fill-color: #AAA;\n",
              "      --disabled-bg-color: #DDD;\n",
              "  }\n",
              "\n",
              "  [theme=dark] .colab-df-quickchart {\n",
              "      --bg-color: #3B4455;\n",
              "      --fill-color: #D2E3FC;\n",
              "      --hover-bg-color: #434B5C;\n",
              "      --hover-fill-color: #FFFFFF;\n",
              "      --disabled-bg-color: #3B4455;\n",
              "      --disabled-fill-color: #666;\n",
              "  }\n",
              "\n",
              "  .colab-df-quickchart {\n",
              "    background-color: var(--bg-color);\n",
              "    border: none;\n",
              "    border-radius: 50%;\n",
              "    cursor: pointer;\n",
              "    display: none;\n",
              "    fill: var(--fill-color);\n",
              "    height: 32px;\n",
              "    padding: 0;\n",
              "    width: 32px;\n",
              "  }\n",
              "\n",
              "  .colab-df-quickchart:hover {\n",
              "    background-color: var(--hover-bg-color);\n",
              "    box-shadow: 0 1px 2px rgba(60, 64, 67, 0.3), 0 1px 3px 1px rgba(60, 64, 67, 0.15);\n",
              "    fill: var(--button-hover-fill-color);\n",
              "  }\n",
              "\n",
              "  .colab-df-quickchart-complete:disabled,\n",
              "  .colab-df-quickchart-complete:disabled:hover {\n",
              "    background-color: var(--disabled-bg-color);\n",
              "    fill: var(--disabled-fill-color);\n",
              "    box-shadow: none;\n",
              "  }\n",
              "\n",
              "  .colab-df-spinner {\n",
              "    border: 2px solid var(--fill-color);\n",
              "    border-color: transparent;\n",
              "    border-bottom-color: var(--fill-color);\n",
              "    animation:\n",
              "      spin 1s steps(1) infinite;\n",
              "  }\n",
              "\n",
              "  @keyframes spin {\n",
              "    0% {\n",
              "      border-color: transparent;\n",
              "      border-bottom-color: var(--fill-color);\n",
              "      border-left-color: var(--fill-color);\n",
              "    }\n",
              "    20% {\n",
              "      border-color: transparent;\n",
              "      border-left-color: var(--fill-color);\n",
              "      border-top-color: var(--fill-color);\n",
              "    }\n",
              "    30% {\n",
              "      border-color: transparent;\n",
              "      border-left-color: var(--fill-color);\n",
              "      border-top-color: var(--fill-color);\n",
              "      border-right-color: var(--fill-color);\n",
              "    }\n",
              "    40% {\n",
              "      border-color: transparent;\n",
              "      border-right-color: var(--fill-color);\n",
              "      border-top-color: var(--fill-color);\n",
              "    }\n",
              "    60% {\n",
              "      border-color: transparent;\n",
              "      border-right-color: var(--fill-color);\n",
              "    }\n",
              "    80% {\n",
              "      border-color: transparent;\n",
              "      border-right-color: var(--fill-color);\n",
              "      border-bottom-color: var(--fill-color);\n",
              "    }\n",
              "    90% {\n",
              "      border-color: transparent;\n",
              "      border-bottom-color: var(--fill-color);\n",
              "    }\n",
              "  }\n",
              "</style>\n",
              "\n",
              "      <script>\n",
              "        async function quickchart(key) {\n",
              "          const quickchartButtonEl =\n",
              "            document.querySelector('#' + key + ' button');\n",
              "          quickchartButtonEl.disabled = true;  // To prevent multiple clicks.\n",
              "          quickchartButtonEl.classList.add('colab-df-spinner');\n",
              "          try {\n",
              "            const charts = await google.colab.kernel.invokeFunction(\n",
              "                'suggestCharts', [key], {});\n",
              "          } catch (error) {\n",
              "            console.error('Error during call to suggestCharts:', error);\n",
              "          }\n",
              "          quickchartButtonEl.classList.remove('colab-df-spinner');\n",
              "          quickchartButtonEl.classList.add('colab-df-quickchart-complete');\n",
              "        }\n",
              "        (() => {\n",
              "          let quickchartButtonEl =\n",
              "            document.querySelector('#df-b378e6d4-5206-4ffb-be4c-1dda931af153 button');\n",
              "          quickchartButtonEl.style.display =\n",
              "            google.colab.kernel.accessAllowed ? 'block' : 'none';\n",
              "        })();\n",
              "      </script>\n",
              "    </div>\n",
              "\n",
              "    </div>\n",
              "  </div>\n"
            ],
            "application/vnd.google.colaboratory.intrinsic+json": {
              "type": "dataframe",
              "summary": "{\n  \"name\": \"display(df\",\n  \"rows\": 5,\n  \"fields\": [\n    {\n      \"column\": \"No.\",\n      \"properties\": {\n        \"dtype\": \"date\",\n        \"min\": 1,\n        \"max\": 5,\n        \"num_unique_values\": 5,\n        \"samples\": [\n          2,\n          5,\n          3\n        ],\n        \"semantic_type\": \"\",\n        \"description\": \"\"\n      }\n    },\n    {\n      \"column\": \"NIM\",\n      \"properties\": {\n        \"dtype\": \"string\",\n        \"num_unique_values\": 5,\n        \"samples\": [\n          \"23422056\",\n          \"23422058\",\n          \"23422011\"\n        ],\n        \"semantic_type\": \"\",\n        \"description\": \"\"\n      }\n    },\n    {\n      \"column\": \"Nama Depan\",\n      \"properties\": {\n        \"dtype\": \"string\",\n        \"num_unique_values\": 5,\n        \"samples\": [\n          \"Dani Restu Putra\",\n          \"Rezza Fahlevi Ramadhan\",\n          \"Ilham Putra Arfiansyah\"\n        ],\n        \"semantic_type\": \"\",\n        \"description\": \"\"\n      }\n    },\n    {\n      \"column\": \"Pembimbing\",\n      \"properties\": {\n        \"dtype\": \"string\",\n        \"num_unique_values\": 3,\n        \"samples\": [\n          \"Pak Khoir\",\n          \"Bu Neny\",\n          \"Pak Arda\"\n        ],\n        \"semantic_type\": \"\",\n        \"description\": \"\"\n      }\n    },\n    {\n      \"column\": \"Judul\",\n      \"properties\": {\n        \"dtype\": \"string\",\n        \"num_unique_values\": 5,\n        \"samples\": [\n          \"Implementasi Bandwidth Management Pada Jaringan Warkop GIRAS Menggunakan Metode Simple Queue\",\n          \"Rancang Bangun Aplikasi Pengumuman Front Desk Filkom UNUSIDA Berbasis Raspberry Pi Menggunakan Metode RAD (Rapid Application Development)\",\n          \"Rancang Bangun Game Pengenalan Tata Surya Berbasis Augmented Reality Menggunakan Metode RAD (Rapid Application Development)\"\n        ],\n        \"semantic_type\": \"\",\n        \"description\": \"\"\n      }\n    },\n    {\n      \"column\": \"Hari/Tanggal\",\n      \"properties\": {\n        \"dtype\": \"category\",\n        \"num_unique_values\": 1,\n        \"samples\": [\n          \"Senin, 18-11-2025\"\n        ],\n        \"semantic_type\": \"\",\n        \"description\": \"\"\n      }\n    },\n    {\n      \"column\": \"Pukul\",\n      \"properties\": {\n        \"dtype\": \"string\",\n        \"num_unique_values\": 5,\n        \"samples\": [\n          \"10.30 \\u2013 11.00\"\n        ],\n        \"semantic_type\": \"\",\n        \"description\": \"\"\n      }\n    },\n    {\n      \"column\": \"Penguji 1\",\n      \"properties\": {\n        \"dtype\": \"number\",\n        \"std\": null,\n        \"min\": null,\n        \"max\": null,\n        \"num_unique_values\": 0,\n        \"samples\": [],\n        \"semantic_type\": \"\",\n        \"description\": \"\"\n      }\n    },\n    {\n      \"column\": \"Penguji 2\",\n      \"properties\": {\n        \"dtype\": \"number\",\n        \"std\": null,\n        \"min\": null,\n        \"max\": null,\n        \"num_unique_values\": 0,\n        \"samples\": [],\n        \"semantic_type\": \"\",\n        \"description\": \"\"\n      }\n    }\n  ]\n}"
            }
          },
          "metadata": {}
        }
      ]
    },
    {
      "cell_type": "code",
      "metadata": {
        "id": "4c0bfdf6"
      },
      "source": [
        "# === 5️⃣ Terapkan ke setiap baris ===\n",
        "jadwal_df[[\"Penguji 1\", \"Penguji 2\"]] = jadwal_df[\"Pembimbing\"].apply(\n",
        "    lambda x: pd.Series(pilih_penguji(x))\n",
        ")"
      ],
      "execution_count": null,
      "outputs": []
    },
    {
      "cell_type": "code",
      "source": [
        "# === 6️⃣ Simpan ke Excel baru ===\n",
        "output_path = \"Jadwal_Proposal_Terupdate.xlsx\"\n",
        "jadwal_df.to_excel(output_path, index=False)"
      ],
      "metadata": {
        "id": "Jh8junT6oFvY"
      },
      "execution_count": null,
      "outputs": []
    },
    {
      "cell_type": "code",
      "source": [
        "\n",
        "print(f\"✅ File berhasil dibuat: {output_path}\")"
      ],
      "metadata": {
        "id": "M3SyGQKIoIcI",
        "outputId": "05c88493-6339-4c80-f528-2036b8cad2d4",
        "colab": {
          "base_uri": "https://localhost:8080/"
        }
      },
      "execution_count": null,
      "outputs": [
        {
          "output_type": "stream",
          "name": "stdout",
          "text": [
            "✅ File berhasil dibuat: Jadwal_Proposal_Terupdate.xlsx\n"
          ]
        }
      ]
    }
  ]
}